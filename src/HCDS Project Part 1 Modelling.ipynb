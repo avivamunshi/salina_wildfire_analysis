{
 "cells": [
  {
   "cell_type": "markdown",
   "id": "7e6f1e02",
   "metadata": {},
   "source": [
    "This notebook has the predictive model which estimates smoke estimates for the next 25 years and the visualizations aasked for in the prompts."
   ]
  },
  {
   "cell_type": "markdown",
   "id": "f3ea88a8",
   "metadata": {},
   "source": [
    "# Section 1: Importing necessary modules"
   ]
  },
  {
   "cell_type": "code",
   "execution_count": 1,
   "id": "06a0c138",
   "metadata": {},
   "outputs": [],
   "source": [
    "import pandas as pd\n",
    "import csv\n",
    "import statsmodels.api as sm\n",
    "import statsmodels.tsa.api as statsmodels\n",
    "import numpy as np\n",
    "import matplotlib.pyplot as plt"
   ]
  },
  {
   "cell_type": "markdown",
   "id": "e4912129",
   "metadata": {},
   "source": [
    "# Section 2: Loading dataframe with smoke estimates and aqi by year"
   ]
  },
  {
   "cell_type": "code",
   "execution_count": 2,
   "id": "00900095",
   "metadata": {},
   "outputs": [],
   "source": [
    "pred_data = pd.read_csv('/Users/aviva/Desktop/MSDS/quarter_4/Human Centered Data Science/Part 1/GeoJSON Exports/intermediate_data/pred_df.csv')"
   ]
  },
  {
   "cell_type": "code",
   "execution_count": 3,
   "id": "878f6563",
   "metadata": {
    "scrolled": false
   },
   "outputs": [
    {
     "data": {
      "text/html": [
       "<div>\n",
       "<style scoped>\n",
       "    .dataframe tbody tr th:only-of-type {\n",
       "        vertical-align: middle;\n",
       "    }\n",
       "\n",
       "    .dataframe tbody tr th {\n",
       "        vertical-align: top;\n",
       "    }\n",
       "\n",
       "    .dataframe thead th {\n",
       "        text-align: right;\n",
       "    }\n",
       "</style>\n",
       "<table border=\"1\" class=\"dataframe\">\n",
       "  <thead>\n",
       "    <tr style=\"text-align: right;\">\n",
       "      <th></th>\n",
       "      <th>GISAcres</th>\n",
       "      <th>shortest_dist</th>\n",
       "      <th>Smoke_Estimate</th>\n",
       "      <th>Year</th>\n",
       "      <th>AQI</th>\n",
       "    </tr>\n",
       "  </thead>\n",
       "  <tbody>\n",
       "    <tr>\n",
       "      <th>0</th>\n",
       "      <td>766.773922</td>\n",
       "      <td>896.624518</td>\n",
       "      <td>0.022618</td>\n",
       "      <td>1963</td>\n",
       "      <td>8.690167</td>\n",
       "    </tr>\n",
       "    <tr>\n",
       "      <th>1</th>\n",
       "      <td>1146.301446</td>\n",
       "      <td>870.262828</td>\n",
       "      <td>0.153983</td>\n",
       "      <td>1964</td>\n",
       "      <td>8.694594</td>\n",
       "    </tr>\n",
       "    <tr>\n",
       "      <th>2</th>\n",
       "      <td>587.560328</td>\n",
       "      <td>992.533750</td>\n",
       "      <td>0.149189</td>\n",
       "      <td>1965</td>\n",
       "      <td>8.699021</td>\n",
       "    </tr>\n",
       "    <tr>\n",
       "      <th>3</th>\n",
       "      <td>1397.433572</td>\n",
       "      <td>932.505220</td>\n",
       "      <td>0.111709</td>\n",
       "      <td>1966</td>\n",
       "      <td>8.703448</td>\n",
       "    </tr>\n",
       "    <tr>\n",
       "      <th>4</th>\n",
       "      <td>1175.659287</td>\n",
       "      <td>1010.487956</td>\n",
       "      <td>0.098337</td>\n",
       "      <td>1967</td>\n",
       "      <td>8.707875</td>\n",
       "    </tr>\n",
       "  </tbody>\n",
       "</table>\n",
       "</div>"
      ],
      "text/plain": [
       "      GISAcres  shortest_dist  Smoke_Estimate  Year       AQI\n",
       "0   766.773922     896.624518        0.022618  1963  8.690167\n",
       "1  1146.301446     870.262828        0.153983  1964  8.694594\n",
       "2   587.560328     992.533750        0.149189  1965  8.699021\n",
       "3  1397.433572     932.505220        0.111709  1966  8.703448\n",
       "4  1175.659287    1010.487956        0.098337  1967  8.707875"
      ]
     },
     "execution_count": 3,
     "metadata": {},
     "output_type": "execute_result"
    }
   ],
   "source": [
    "pred_data.head()"
   ]
  },
  {
   "cell_type": "markdown",
   "id": "47799a7c",
   "metadata": {},
   "source": [
    "# Section 3: Building the predictive model"
   ]
  },
  {
   "cell_type": "markdown",
   "id": "6af06401",
   "metadata": {},
   "source": [
    "We first convert the 'Year' column in the 'pred_data' DataFrame to datetime format and set it as the index for time-series analysis."
   ]
  },
  {
   "cell_type": "code",
   "execution_count": 4,
   "id": "abaf29c1",
   "metadata": {},
   "outputs": [],
   "source": [
    "pred_data['Year'] = pd.to_datetime(pred_data['Year'], format='%Y')  \n",
    "pred_data.set_index('Year', inplace=True)"
   ]
  },
  {
   "cell_type": "markdown",
   "id": "e30c57e1",
   "metadata": {},
   "source": [
    "Next, we define a Seasonal AutoRegressive Integrated Moving Average (SARIMA) model for time-series forecasting, considering seasonal patterns. The model includes parameters for the ARIMA order and the seasonal order, along with the seasonal period (s) assumed to be 6 months."
   ]
  },
  {
   "cell_type": "code",
   "execution_count": 5,
   "id": "d8299884",
   "metadata": {},
   "outputs": [],
   "source": [
    "s = 6  #seasonal period(assuming 6 months from May 1st to October 31st)"
   ]
  },
  {
   "cell_type": "code",
   "execution_count": 6,
   "id": "70c3abca",
   "metadata": {},
   "outputs": [],
   "source": [
    "# (p, d, q, P, D, Q, s)\n",
    "p = 1  #AutoRegressive order\n",
    "d = 1  #Integrated order\n",
    "q = 1  #moving Average order\n",
    "P = 1  #Seasonal AutoRegressive order\n",
    "D = 1  #seasonal Integrated order\n",
    "Q = 1  #seasonal Moving Average order"
   ]
  },
  {
   "cell_type": "markdown",
   "id": "0d4d5899",
   "metadata": {},
   "source": [
    "Now, we will extract exogenous variables, 'GISAcres' and 'shortest_dist,' to consider their impact on the 'Smoke_Estimate' in the SARIMA model."
   ]
  },
  {
   "cell_type": "code",
   "execution_count": 7,
   "id": "b1f240dd",
   "metadata": {},
   "outputs": [],
   "source": [
    "exog_vars = pred_data[['GISAcres', 'shortest_dist']]"
   ]
  },
  {
   "cell_type": "markdown",
   "id": "84d420e0",
   "metadata": {},
   "source": [
    "Fitting model to time series data"
   ]
  },
  {
   "cell_type": "code",
   "execution_count": 8,
   "id": "4ec96174",
   "metadata": {},
   "outputs": [
    {
     "name": "stderr",
     "output_type": "stream",
     "text": [
      "/Users/aviva/opt/anaconda3/lib/python3.9/site-packages/statsmodels/tsa/base/tsa_model.py:471: ValueWarning: No frequency information was provided, so inferred frequency AS-JAN will be used.\n",
      "  self._init_dates(dates, freq)\n",
      "/Users/aviva/opt/anaconda3/lib/python3.9/site-packages/statsmodels/tsa/base/tsa_model.py:471: ValueWarning: No frequency information was provided, so inferred frequency AS-JAN will be used.\n",
      "  self._init_dates(dates, freq)\n",
      " This problem is unconstrained.\n"
     ]
    },
    {
     "name": "stdout",
     "output_type": "stream",
     "text": [
      "RUNNING THE L-BFGS-B CODE\n",
      "\n",
      "           * * *\n",
      "\n",
      "Machine precision = 2.220D-16\n",
      " N =            5     M =           10\n",
      "\n",
      "At X0         0 variables are exactly at the bounds\n",
      "\n",
      "At iterate    0    f=  9.54950D-01    |proj g|=  3.05019D-01\n",
      "\n",
      "At iterate    5    f=  9.16727D-01    |proj g|=  5.49371D-02\n",
      "\n",
      "At iterate   10    f=  8.81989D-01    |proj g|=  2.61832D-02\n",
      "\n",
      "At iterate   15    f=  8.76948D-01    |proj g|=  6.79686D-03\n",
      "\n",
      "At iterate   20    f=  8.76632D-01    |proj g|=  3.35272D-05\n",
      "\n",
      "           * * *\n",
      "\n",
      "Tit   = total number of iterations\n",
      "Tnf   = total number of function evaluations\n",
      "Tnint = total number of segments explored during Cauchy searches\n",
      "Skip  = number of BFGS updates skipped\n",
      "Nact  = number of active bounds at final generalized Cauchy point\n",
      "Projg = norm of the final projected gradient\n",
      "F     = final function value\n",
      "\n",
      "           * * *\n",
      "\n",
      "   N    Tit     Tnf  Tnint  Skip  Nact     Projg        F\n",
      "    5     21     26      1     0     0   2.408D-06   8.766D-01\n",
      "  F =  0.87663182775803594     \n",
      "\n",
      "CONVERGENCE: NORM_OF_PROJECTED_GRADIENT_<=_PGTOL            \n"
     ]
    }
   ],
   "source": [
    "model = sm.tsa.SARIMAX(pred_data['Smoke_Estimate'], order=(p, d, q), seasonal_order=(P, D, Q, s))\n",
    "results = model.fit()"
   ]
  },
  {
   "cell_type": "markdown",
   "id": "676e5ca0",
   "metadata": {},
   "source": [
    "Generating forecast for the next 25 years"
   ]
  },
  {
   "cell_type": "code",
   "execution_count": 9,
   "id": "2d954408",
   "metadata": {},
   "outputs": [
    {
     "name": "stdout",
     "output_type": "stream",
     "text": [
      "2021-01-01    1.506663\n",
      "2022-01-01    1.469406\n",
      "2023-01-01    2.255509\n",
      "2024-01-01    1.317201\n",
      "2025-01-01    0.759534\n",
      "2026-01-01    1.350308\n",
      "2027-01-01    1.691736\n",
      "2028-01-01    1.676622\n",
      "2029-01-01    2.477738\n",
      "2030-01-01    1.491184\n",
      "2031-01-01    0.927430\n",
      "2032-01-01    1.506731\n",
      "2033-01-01    1.873088\n",
      "2034-01-01    1.857299\n",
      "2035-01-01    2.657957\n",
      "2036-01-01    1.672873\n",
      "2037-01-01    1.109305\n",
      "2038-01-01    1.688956\n",
      "2039-01-01    2.054553\n",
      "2040-01-01    2.038785\n",
      "2041-01-01    2.839456\n",
      "2042-01-01    1.854328\n",
      "2043-01-01    1.290754\n",
      "2044-01-01    1.870394\n",
      "2045-01-01    2.236014\n",
      "Freq: AS-JAN, Name: predicted_mean, dtype: float64\n"
     ]
    }
   ],
   "source": [
    "forecast_steps = 25  \n",
    "forecast = results.get_forecast(steps=forecast_steps)\n",
    "\n",
    "forecasted_values = forecast.predicted_mean\n",
    "print(forecasted_values)"
   ]
  },
  {
   "cell_type": "markdown",
   "id": "7145f08b",
   "metadata": {},
   "source": [
    "# Section 4: Analyzing the data using time series graphs"
   ]
  },
  {
   "cell_type": "code",
   "execution_count": 10,
   "id": "a7855f74",
   "metadata": {},
   "outputs": [],
   "source": [
    "analysis_data = pd.read_csv('/Users/aviva/Desktop/MSDS/quarter_4/Human Centered Data Science/Part 1/GeoJSON Exports/intermediate_data/pred_df.csv')"
   ]
  },
  {
   "cell_type": "code",
   "execution_count": 11,
   "id": "75cb2b59",
   "metadata": {},
   "outputs": [
    {
     "data": {
      "text/html": [
       "<div>\n",
       "<style scoped>\n",
       "    .dataframe tbody tr th:only-of-type {\n",
       "        vertical-align: middle;\n",
       "    }\n",
       "\n",
       "    .dataframe tbody tr th {\n",
       "        vertical-align: top;\n",
       "    }\n",
       "\n",
       "    .dataframe thead th {\n",
       "        text-align: right;\n",
       "    }\n",
       "</style>\n",
       "<table border=\"1\" class=\"dataframe\">\n",
       "  <thead>\n",
       "    <tr style=\"text-align: right;\">\n",
       "      <th></th>\n",
       "      <th>GISAcres</th>\n",
       "      <th>shortest_dist</th>\n",
       "      <th>Smoke_Estimate</th>\n",
       "      <th>Year</th>\n",
       "      <th>AQI</th>\n",
       "    </tr>\n",
       "  </thead>\n",
       "  <tbody>\n",
       "    <tr>\n",
       "      <th>0</th>\n",
       "      <td>766.773922</td>\n",
       "      <td>896.624518</td>\n",
       "      <td>0.022618</td>\n",
       "      <td>1963</td>\n",
       "      <td>8.690167</td>\n",
       "    </tr>\n",
       "    <tr>\n",
       "      <th>1</th>\n",
       "      <td>1146.301446</td>\n",
       "      <td>870.262828</td>\n",
       "      <td>0.153983</td>\n",
       "      <td>1964</td>\n",
       "      <td>8.694594</td>\n",
       "    </tr>\n",
       "    <tr>\n",
       "      <th>2</th>\n",
       "      <td>587.560328</td>\n",
       "      <td>992.533750</td>\n",
       "      <td>0.149189</td>\n",
       "      <td>1965</td>\n",
       "      <td>8.699021</td>\n",
       "    </tr>\n",
       "    <tr>\n",
       "      <th>3</th>\n",
       "      <td>1397.433572</td>\n",
       "      <td>932.505220</td>\n",
       "      <td>0.111709</td>\n",
       "      <td>1966</td>\n",
       "      <td>8.703448</td>\n",
       "    </tr>\n",
       "    <tr>\n",
       "      <th>4</th>\n",
       "      <td>1175.659287</td>\n",
       "      <td>1010.487956</td>\n",
       "      <td>0.098337</td>\n",
       "      <td>1967</td>\n",
       "      <td>8.707875</td>\n",
       "    </tr>\n",
       "  </tbody>\n",
       "</table>\n",
       "</div>"
      ],
      "text/plain": [
       "      GISAcres  shortest_dist  Smoke_Estimate  Year       AQI\n",
       "0   766.773922     896.624518        0.022618  1963  8.690167\n",
       "1  1146.301446     870.262828        0.153983  1964  8.694594\n",
       "2   587.560328     992.533750        0.149189  1965  8.699021\n",
       "3  1397.433572     932.505220        0.111709  1966  8.703448\n",
       "4  1175.659287    1010.487956        0.098337  1967  8.707875"
      ]
     },
     "execution_count": 11,
     "metadata": {},
     "output_type": "execute_result"
    }
   ],
   "source": [
    "analysis_data.head()"
   ]
  },
  {
   "cell_type": "markdown",
   "id": "7703f7f6",
   "metadata": {},
   "source": [
    "Making sure that the max distance is set"
   ]
  },
  {
   "cell_type": "code",
   "execution_count": 12,
   "id": "b27c02e4",
   "metadata": {},
   "outputs": [],
   "source": [
    "max_dist = 1250\n",
    "filtered_data = analysis_data[analysis_data['shortest_dist'] <= max_dist]"
   ]
  },
  {
   "cell_type": "markdown",
   "id": "d0cff50d",
   "metadata": {},
   "source": [
    "## Produce a histogram showing the number of fires occurring every 50 mile distance from Salina up to the max specified distance."
   ]
  },
  {
   "cell_type": "code",
   "execution_count": 13,
   "id": "ac8b07aa",
   "metadata": {},
   "outputs": [
    {
     "data": {
      "image/png": "[encoded data removed]",
      "text/plain": [
       "<Figure size 432x288 with 1 Axes>"
      ]
     },
     "metadata": {
      "needs_background": "light"
     },
     "output_type": "display_data"
    }
   ],
   "source": [
    "max_distance = analysis_data['shortest_dist'].max()\n",
    "bin_width = 50\n",
    "\n",
    "bins = np.arange(0, max_dist + bin_width, bin_width)\n",
    "\n",
    "plt.hist(analysis_data['shortest_dist'], bins=bins, edgecolor='k', alpha=0.7)\n",
    "\n",
    "plt.xlabel('Distance (miles)')\n",
    "plt.ylabel('Number of Fires')\n",
    "plt.title('Number of Fires vs. Distance from Salina')\n",
    "plt.grid(True)\n",
    "\n",
    "plt.show()"
   ]
  },
  {
   "cell_type": "markdown",
   "id": "487e720b",
   "metadata": {},
   "source": [
    "## Produce a time series graph of total acres burned per year for the fires occurring in the specified distance from Salina."
   ]
  },
  {
   "cell_type": "code",
   "execution_count": 14,
   "id": "c56e524f",
   "metadata": {},
   "outputs": [
    {
     "data": {
      "image/png": "[encoded data removed]",
      "text/plain": [
       "<Figure size 720x432 with 1 Axes>"
      ]
     },
     "metadata": {
      "needs_background": "light"
     },
     "output_type": "display_data"
    }
   ],
   "source": [
    "acres_burned_per_year = filtered_data.groupby('Year')['GISAcres'].sum()\n",
    "\n",
    "plt.figure(figsize=(10, 6))\n",
    "acres_burned_per_year.plot(legend=True)\n",
    "plt.title(f'Total Acres Burned per Year (Up to {max_dist} miles from Salina)')\n",
    "plt.xlabel('Year')\n",
    "plt.ylabel('Total Acres Burned')\n",
    "plt.grid(True)\n",
    "plt.show()"
   ]
  },
  {
   "cell_type": "markdown",
   "id": "20917afc",
   "metadata": {},
   "source": [
    "## Produce a time series graph containing fire smoke estimate and the AQI estimate for Salina."
   ]
  },
  {
   "cell_type": "code",
   "execution_count": 15,
   "id": "5d687f0b",
   "metadata": {
    "scrolled": true
   },
   "outputs": [
    {
     "data": {
      "image/png": "[encoded data removed]",
      "text/plain": [
       "<Figure size 720x432 with 1 Axes>"
      ]
     },
     "metadata": {
      "needs_background": "light"
     },
     "output_type": "display_data"
    }
   ],
   "source": [
    "plt.figure(figsize=(10, 6))\n",
    "analysis_data.set_index('Year')['Smoke_Estimate'].plot(legend=True, label='Smoke Estimate')\n",
    "analysis_data.set_index('Year')['AQI'].plot(legend=True, label='AQI Estimate')\n",
    "plt.title('Fire Smoke Estimate and AQI Estimate for Salina')\n",
    "plt.xlabel('Year')\n",
    "plt.ylabel('Estimate')\n",
    "plt.grid(True)\n",
    "plt.show()"
   ]
  },
  {
   "cell_type": "code",
   "execution_count": null,
   "id": "ae71fe1e",
   "metadata": {},
   "outputs": [],
   "source": []
  }
 ],
 "metadata": {
  "kernelspec": {
   "display_name": "Python 3 (ipykernel)",
   "language": "python",
   "name": "python3"
  },
  "language_info": {
   "codemirror_mode": {
    "name": "ipython",
    "version": 3
   },
   "file_extension": ".py",
   "mimetype": "text/x-python",
   "name": "python",
   "nbconvert_exporter": "python",
   "pygments_lexer": "ipython3",
   "version": "3.9.12"
  }
 },
 "nbformat": 4,
 "nbformat_minor": 5
}
